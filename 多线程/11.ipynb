{
 "cells": [
  {
   "cell_type": "code",
   "execution_count": null,
   "metadata": {},
   "outputs": [],
   "source": [
    "import queue\n",
    "q = queue.Queue(maxsize = 10)"
   ]
  },
  {
   "cell_type": "code",
   "execution_count": null,
   "metadata": {},
   "outputs": [],
   "source": [
    "import threading\n",
    "import time\n",
    "\n",
    "\n",
    "semaphore = threading.Semaphore(5)\n",
    "\n",
    "class myThread(threading.Thread):\n",
    "    def run(self):\n",
    "        if semaphore.acquire():\n",
    "            print(self.name)\n",
    "            time.sleep(10)\n",
    "            semaphore.release()\n",
    "\n",
    "\n",
    "if __name__ == '__main__':\n",
    "    threads = []\n",
    "\n",
    "    for i in range(100):\n",
    "        threads.append(myThread())\n",
    "\n",
    "    for t in threads:\n",
    "        t.start()\n"
   ]
  }
 ],
 "metadata": {
  "kernelspec": {
   "display_name": "base",
   "language": "python",
   "name": "python3"
  },
  "language_info": {
   "codemirror_mode": {
    "name": "ipython",
    "version": 3
   },
   "file_extension": ".py",
   "mimetype": "text/x-python",
   "name": "python",
   "nbconvert_exporter": "python",
   "pygments_lexer": "ipython3",
   "version": "3.11.5"
  }
 },
 "nbformat": 4,
 "nbformat_minor": 2
}
