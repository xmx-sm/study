{
 "cells": [
  {
   "cell_type": "code",
   "execution_count": 1,
   "metadata": {},
   "outputs": [
    {
     "data": {
      "text/plain": [
       "<coroutine object start_server at 0x00000198E3F6B540>"
      ]
     },
     "execution_count": 1,
     "metadata": {},
     "output_type": "execute_result"
    }
   ],
   "source": [
    "import re\n",
    "from playwright.async_api import Playwright, async_playwright, expect\n",
    "import asyncio\n",
    "\n",
    "\n",
    "playwright = async_playwright().start()\n",
    "async def run() -> None:\n",
    "    # browser = playwright.chromium.launch(headless=False)\n",
    "    # context = browser.new_context()\n",
    "    # page = context.new_page()\n",
    "\n",
    "    browser = await playwright.chromium.launch(headless = False)\n",
    "    page = await browser.new_page()\n",
    "    context = await browser.new_context()\n",
    "    page.goto(\"http://49.232.209.53/\")\n",
    "    page.get_by_placeholder(\"请输入账号\").click()\n",
    "    page.get_by_placeholder(\"请输入账号\").press(\"CapsLock\")\n",
    "    page.get_by_placeholder(\"请输入账号\").fill(\"MX\")\n",
    "    page.get_by_placeholder(\"请输入密码\").click()\n",
    "    page.get_by_placeholder(\"请输入密码\").fill(\"112233\")\n",
    "    page.get_by_role(\"button\", name=\"登录\").click()\n",
    "    page.locator(\"input[name=\\\"tianqi\\\"]\").click()\n",
    "    page.locator(\"input[name=\\\"tianqi\\\"]\").fill(\"\")\n",
    "    page.locator(\"input[name=\\\"tianqi\\\"]\").press(\"CapsLock\")\n",
    "    page.locator(\"input[name=\\\"tianqi\\\"]\").press(\"CapsLock\")\n",
    "    page.locator(\"input[name=\\\"tianqi\\\"]\").press(\"CapsLock\")\n",
    "    page.locator(\"input[name=\\\"tianqi\\\"]\").fill(\"北京\")\n",
    "    with page.expect_popup() as page1_info:\n",
    "        page.get_by_role(\"button\", name=\"查看天气\").click()\n",
    "    page1 = page1_info.value\n",
    "\n",
    "    # ---------------------\n",
    "    context.close()\n",
    "    browser.close()\n",
    "asyncio.start_server(run())\n",
    "# # asyncio.set_event_loop_policy(run(async_playwright()))\n",
    "# # playwright = await sync_playwright().start()\n",
    "# # browser = await playwright.chromium.launch(headless = False)\n",
    "# # page = await browser.new_page()\n",
    "# with async_playwright() as playwright:\n",
    "#     # run(playwright)\n",
    "#     asyncio.set_event_loop_policy(run(playwright))"
   ]
  },
  {
   "cell_type": "code",
   "execution_count": null,
   "metadata": {},
   "outputs": [],
   "source": []
  }
 ],
 "metadata": {
  "kernelspec": {
   "display_name": "Python 3",
   "language": "python",
   "name": "python3"
  },
  "language_info": {
   "codemirror_mode": {
    "name": "ipython",
    "version": 3
   },
   "file_extension": ".py",
   "mimetype": "text/x-python",
   "name": "python",
   "nbconvert_exporter": "python",
   "pygments_lexer": "ipython3",
   "version": "3.13.0"
  }
 },
 "nbformat": 4,
 "nbformat_minor": 2
}
