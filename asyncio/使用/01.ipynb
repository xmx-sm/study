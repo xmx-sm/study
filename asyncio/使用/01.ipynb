{
 "cells": [
  {
   "cell_type": "code",
   "execution_count": 2,
   "metadata": {},
   "outputs": [
    {
     "name": "stdout",
     "output_type": "stream",
     "text": [
      "主进程1\n",
      "主进程2\n",
      "主进程3\n"
     ]
    }
   ],
   "source": [
    "'''\n",
    "os.fork()\n",
    "multiprocessing\n",
    "subprocess\n",
    "'''\n",
    "\n",
    "# 方式1\n",
    "from multiprocessing import Process\n",
    "import time\n",
    "\n",
    "\n",
    "# def func(name):\n",
    "#     print(f'{name}任务开始')\n",
    "#     time.sleep(5)\n",
    "#     print(f'{name}任务执行完毕')\n",
    "\n",
    "\n",
    "# if __name__ == '__main__':\n",
    "#     # 1、得到进程操作对象\n",
    "#     p = Process(target=func, args=('写讲话稿',))\n",
    "#     # 2、创建进程\n",
    "#     p.start()\n",
    "#     print('主进程')\n",
    "\n",
    "\n",
    "# 方式2\n",
    "from multiprocessing import Process\n",
    "import time\n",
    "\n",
    "\n",
    "class MyProcess(Process):\n",
    "    def __init__(self, name):\n",
    "        super().__init__()\n",
    "        self.task_name = name\n",
    "\n",
    "    def run(self):\n",
    "        print(f'{self.task_name}任务开始')\n",
    "        time.sleep(5)\n",
    "        print(f'{self.task_name}任务结束')\n",
    "\n",
    "\n",
    "if __name__ == '__main__':\n",
    "    p = MyProcess('1')\n",
    "    print('主进程1')\n",
    "    p.start()\n",
    "    p = MyProcess('2')\n",
    "    print('主进程2')\n",
    "    p.start()\n",
    "    print('主进程3')\n"
   ]
  }
 ],
 "metadata": {
  "kernelspec": {
   "display_name": "Python 3",
   "language": "python",
   "name": "python3"
  },
  "language_info": {
   "codemirror_mode": {
    "name": "ipython",
    "version": 3
   },
   "file_extension": ".py",
   "mimetype": "text/x-python",
   "name": "python",
   "nbconvert_exporter": "python",
   "pygments_lexer": "ipython3",
   "version": "3.13.0"
  }
 },
 "nbformat": 4,
 "nbformat_minor": 2
}
